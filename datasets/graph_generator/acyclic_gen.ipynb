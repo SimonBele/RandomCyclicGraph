{
 "cells": [
  {
   "cell_type": "code",
   "execution_count": null,
   "metadata": {},
   "outputs": [],
   "source": [
    "import torch\n",
    "from torch_geometric.data import Data, Dataset\n",
    "import networkx as nx\n",
    "import random\n",
    "\n",
    "def networkx_to_pyg_data(graph, num_node_features=1):\n",
    "    edge_index = torch.tensor(list(graph.edges()), dtype=torch.long).t().contiguous()\n",
    "    num_nodes = graph.number_of_nodes()\n",
    "    x = torch.ones(num_nodes, num_node_features)\n",
    "    return Data(x=x, edge_index=edge_index)\n",
    "\n",
    "# Function to generate a random tree\n",
    "def generate_random_tree(n):\n",
    "    return nx.random_tree(n)\n",
    "\n",
    "# Generating the trees\n",
    "pyg_dataset = []\n",
    "for n in range(3, 21):  # From 3 to 20 nodes\n",
    "    for _ in range(5):  # Generate 5 examples for each size\n",
    "        tree = generate_random_tree(n)\n",
    "        pyg_data = networkx_to_pyg_data(tree)\n",
    "        pyg_dataset.append(pyg_data)\n",
    "\n",
    "class AcyclicGraphDataset(Dataset):\n",
    "    def __init__(self, pyg_dataset):\n",
    "        super(AcyclicGraphDataset, self).__init__()\n",
    "        self.pyg_dataset = pyg_dataset\n",
    "\n",
    "    def len(self):\n",
    "        return len(self.pyg_dataset)\n",
    "\n",
    "    def get(self, idx):\n",
    "        return self.pyg_dataset[idx]\n",
    "\n",
    "# Create the dataset\n",
    "tree_dataset = AcyclicGraphDataset(pyg_dataset)\n",
    "\n",
    "torch.save(tree_dataset, 'acyclic_dataset.pt')"
   ]
  }
 ],
 "metadata": {
  "kernelspec": {
   "display_name": "Python 3.11.5 ('research')",
   "language": "python",
   "name": "python3"
  },
  "language_info": {
   "name": "python",
   "version": "3.11.5"
  },
  "orig_nbformat": 4,
  "vscode": {
   "interpreter": {
    "hash": "54a8a4b80f4f70c84f31aca617cda6666e967fece7258fbe31fedfa48a0f63f6"
   }
  }
 },
 "nbformat": 4,
 "nbformat_minor": 2
}
